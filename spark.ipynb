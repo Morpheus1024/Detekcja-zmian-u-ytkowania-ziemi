{
 "cells": [
  {
   "cell_type": "code",
   "execution_count": 3,
   "metadata": {},
   "outputs": [
    {
     "name": "stderr",
     "output_type": "stream",
     "text": [
      "24/06/24 20:01:03 WARN SparkSession: Using an existing Spark session; only runtime SQL configurations will take effect.\n"
     ]
    }
   ],
   "source": [
    "from pyspark.sql import SparkSession\n",
    "\n",
    "spark = SparkSession.builder.appName(\"landsat\").getOrCreate()"
   ]
  },
  {
   "cell_type": "code",
   "execution_count": 4,
   "metadata": {},
   "outputs": [],
   "source": [
    "import cv2\n",
    "import numpy as np\n",
    "from pyspark.sql.functions import udf\n",
    "from pyspark.sql.types import BinaryType\n",
    "from pyspark.sql import Row\n",
    "\n",
    "def read_image(image_path):\n",
    "    img = cv2.imread(image_path)\n",
    "    _, buffer = cv2.imencode('.jpg', img)\n",
    "    return buffer.tobytes()\n",
    "\n",
    "\n",
    "read_image_udf = udf(lambda z: read_image(z), BinaryType())\n",
    "\n",
    "dubaj = [\"dubaj_2013_1.jpg\", \"dubaj_2013_2.jpg\", \"dubaj_2013_3.jpg\", \"dubaj_2013_4.jpg\", \"dubaj_2024_1.jpg\", \"dubaj_2024_2.jpg\", \"dubaj_2024_3.jpg\", \"dubaj_2024_4.jpg\"]\n",
    "las = [\"las_2013_1.jpg\", \"las_2013_2.jpg\", \"las_2013_3.jpg\", \"las_2013_4.jpg\", \"las_2024_1.jpg\", \"las_2024_2.jpg\", \"las_2024_3.jpg\", \"las_2024_4.jpg\"]\n",
    "qatar = [\"qatar_2013_1.jpg\", \"qatar_2013_2.jpg\", \"qatar_2013_3.jpg\", \"qatar_2013_4.jpg\", \"qatar_2024_1.jpg\", \"qatar_2024_2.jpg\", \"qatar_2024_3.jpg\", \"qatar_2024_4.jpg\"]\n",
    "qatar2 = [\"qatar2_2013_1.jpg\", \"qatar2_2013_2.jpg\", \"qatar2_2013_3.jpg\", \"qatar2_2013_4.jpg\", \"qatar2_2024_1.jpg\", \"qatar2_2024_2.jpg\", \"qatar2_2024_3.jpg\", \"qatar2_2024_4.jpg\"]\n",
    "utah = [\"utah_2013_1.jpg\", \"utah_2013_2.jpg\", \"utah_2013_3.jpg\", \"utah_2013_4.jpg\", \"utah_2024_1.jpg\", \"utah_2024_2.jpg\", \"utah_2024_3.jpg\", \"utah_2024_4.jpg\"]\n",
    "\n",
    "data_path = dubaj+las+qatar+qatar2+utah\n",
    "\n",
    "image_df = spark.createDataFrame([Row(path=path) for path in data_path])\n",
    "\n",
    "image_df = image_df.withColumn(\"image\", read_image_udf(\"path\"))\n",
    "\n"
   ]
  },
  {
   "cell_type": "code",
   "execution_count": 12,
   "metadata": {},
   "outputs": [
    {
     "name": "stderr",
     "output_type": "stream",
     "text": [
      "                                                                                \r"
     ]
    },
    {
     "name": "stdout",
     "output_type": "stream",
     "text": [
      "+-----------------+--------------------+\n",
      "|             path|               image|\n",
      "+-----------------+--------------------+\n",
      "| dubaj_2013_1.jpg|[FF D8 FF E0 00 1...|\n",
      "| dubaj_2013_2.jpg|[FF D8 FF E0 00 1...|\n",
      "| dubaj_2013_3.jpg|[FF D8 FF E0 00 1...|\n",
      "| dubaj_2013_4.jpg|[FF D8 FF E0 00 1...|\n",
      "| dubaj_2024_1.jpg|[FF D8 FF E0 00 1...|\n",
      "| dubaj_2024_2.jpg|[FF D8 FF E0 00 1...|\n",
      "| dubaj_2024_3.jpg|[FF D8 FF E0 00 1...|\n",
      "| dubaj_2024_4.jpg|[FF D8 FF E0 00 1...|\n",
      "|   las_2013_1.jpg|[FF D8 FF E0 00 1...|\n",
      "|   las_2013_2.jpg|[FF D8 FF E0 00 1...|\n",
      "|   las_2013_3.jpg|[FF D8 FF E0 00 1...|\n",
      "|   las_2013_4.jpg|[FF D8 FF E0 00 1...|\n",
      "|   las_2024_1.jpg|[FF D8 FF E0 00 1...|\n",
      "|   las_2024_2.jpg|[FF D8 FF E0 00 1...|\n",
      "|   las_2024_3.jpg|[FF D8 FF E0 00 1...|\n",
      "|   las_2024_4.jpg|[FF D8 FF E0 00 1...|\n",
      "| qatar_2013_1.jpg|[FF D8 FF E0 00 1...|\n",
      "| qatar_2013_2.jpg|[FF D8 FF E0 00 1...|\n",
      "| qatar_2013_3.jpg|[FF D8 FF E0 00 1...|\n",
      "| qatar_2013_4.jpg|[FF D8 FF E0 00 1...|\n",
      "| qatar_2024_1.jpg|[FF D8 FF E0 00 1...|\n",
      "| qatar_2024_2.jpg|[FF D8 FF E0 00 1...|\n",
      "| qatar_2024_3.jpg|[FF D8 FF E0 00 1...|\n",
      "| qatar_2024_4.jpg|[FF D8 FF E0 00 1...|\n",
      "|qatar2_2013_1.jpg|[FF D8 FF E0 00 1...|\n",
      "|qatar2_2013_2.jpg|[FF D8 FF E0 00 1...|\n",
      "|qatar2_2013_3.jpg|[FF D8 FF E0 00 1...|\n",
      "|qatar2_2013_4.jpg|[FF D8 FF E0 00 1...|\n",
      "|qatar2_2024_1.jpg|[FF D8 FF E0 00 1...|\n",
      "|qatar2_2024_2.jpg|[FF D8 FF E0 00 1...|\n",
      "|qatar2_2024_3.jpg|[FF D8 FF E0 00 1...|\n",
      "|qatar2_2024_4.jpg|[FF D8 FF E0 00 1...|\n",
      "|  utah_2013_1.jpg|[FF D8 FF E0 00 1...|\n",
      "|  utah_2013_2.jpg|[FF D8 FF E0 00 1...|\n",
      "|  utah_2013_3.jpg|[FF D8 FF E0 00 1...|\n",
      "|  utah_2013_4.jpg|[FF D8 FF E0 00 1...|\n",
      "|  utah_2024_1.jpg|[FF D8 FF E0 00 1...|\n",
      "|  utah_2024_2.jpg|[FF D8 FF E0 00 1...|\n",
      "|  utah_2024_3.jpg|[FF D8 FF E0 00 1...|\n",
      "|  utah_2024_4.jpg|[FF D8 FF E0 00 1...|\n",
      "+-----------------+--------------------+\n",
      "\n",
      "None\n"
     ]
    }
   ],
   "source": [
    "print(image_df.show(100))"
   ]
  }
 ],
 "metadata": {
  "kernelspec": {
   "display_name": "Python 3",
   "language": "python",
   "name": "python3"
  },
  "language_info": {
   "codemirror_mode": {
    "name": "ipython",
    "version": 3
   },
   "file_extension": ".py",
   "mimetype": "text/x-python",
   "name": "python",
   "nbconvert_exporter": "python",
   "pygments_lexer": "ipython3",
   "version": "3.12.3"
  }
 },
 "nbformat": 4,
 "nbformat_minor": 2
}
